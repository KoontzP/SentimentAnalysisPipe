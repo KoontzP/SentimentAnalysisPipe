{
 "cells": [
  {
   "cell_type": "code",
   "execution_count": 1,
   "id": "dbdccdb7-f833-4126-855a-27c51f269ac8",
   "metadata": {},
   "outputs": [],
   "source": [
    "from datasets import load_dataset\n",
    "from torch.utils.data import DataLoader\n",
    "import datasets\n",
    "from transformers import AutoTokenizer                 "
   ]
  },
  {
   "cell_type": "code",
   "execution_count": 78,
   "id": "da54b12c-dc20-4ab8-9539-220d618f8d04",
   "metadata": {},
   "outputs": [],
   "source": [
    "dataset = load_dataset(\"imsoumyaneel/sentiment-analysis-llama2\")"
   ]
  },
  {
   "cell_type": "code",
   "execution_count": 84,
   "id": "8b5807bb-37cb-42cb-a404-470a6f7b574e",
   "metadata": {},
   "outputs": [],
   "source": [
    "# splitting the data into train/test portions, 80% / 20 %\n",
    "dataset = dataset[\"train\"].train_test_split(test_size=0.2)"
   ]
  },
  {
   "cell_type": "code",
   "execution_count": 85,
   "id": "4ba0a66d-a0ce-4fd2-91d6-3f2196c30e2e",
   "metadata": {},
   "outputs": [
    {
     "data": {
      "text/plain": [
       "DatasetDict({\n",
       "    train: Dataset({\n",
       "        features: ['sentence', 'label', 'text'],\n",
       "        num_rows: 478638\n",
       "    })\n",
       "    test: Dataset({\n",
       "        features: ['sentence', 'label', 'text'],\n",
       "        num_rows: 119660\n",
       "    })\n",
       "})"
      ]
     },
     "execution_count": 85,
     "metadata": {},
     "output_type": "execute_result"
    }
   ],
   "source": [
    "dataset"
   ]
  },
  {
   "cell_type": "code",
   "execution_count": 86,
   "id": "c7d0ce83-3768-4205-92f4-053cebfd6625",
   "metadata": {},
   "outputs": [],
   "source": [
    "# using a pre-trained model for tokenizer\n",
    "model_name = \"cardiffnlp/twitter-roberta-base-sentiment-latest\"\n",
    "tokenizer = AutoTokenizer.from_pretrained(model_name)"
   ]
  },
  {
   "cell_type": "code",
   "execution_count": 87,
   "id": "e8bee862-18c1-48d7-be8e-0f71e43b8990",
   "metadata": {},
   "outputs": [],
   "source": [
    "def tokenize_function(examples):\n",
    "    return tokenizer(examples[\"text\"], padding=\"max_length\", truncation=True, max_length=128)"
   ]
  },
  {
   "cell_type": "code",
   "execution_count": 88,
   "id": "2f58034d-ed97-4ff6-b37a-156cab0b90b7",
   "metadata": {},
   "outputs": [
    {
     "data": {
      "application/vnd.jupyter.widget-view+json": {
       "model_id": "01192d50ecd0463387e5d3b8f35bcda3",
       "version_major": 2,
       "version_minor": 0
      },
      "text/plain": [
       "Map:   0%|          | 0/478638 [00:00<?, ? examples/s]"
      ]
     },
     "metadata": {},
     "output_type": "display_data"
    },
    {
     "data": {
      "application/vnd.jupyter.widget-view+json": {
       "model_id": "bc7ec47ec3424f6f9efeb3706a8a5671",
       "version_major": 2,
       "version_minor": 0
      },
      "text/plain": [
       "Map:   0%|          | 0/119660 [00:00<?, ? examples/s]"
      ]
     },
     "metadata": {},
     "output_type": "display_data"
    }
   ],
   "source": [
    "# creating tokens for the dataset\n",
    "tokenized_dataset = dataset.map(tokenize_function, batched=True)"
   ]
  },
  {
   "cell_type": "code",
   "execution_count": 89,
   "id": "01784c5a-74db-4c79-95e5-ea5acb03839f",
   "metadata": {},
   "outputs": [],
   "source": [
    "# Removing the text column\n",
    "tokenized_dataset = tokenized_datasets.remove_columns([\"text\"])"
   ]
  },
  {
   "cell_type": "code",
   "execution_count": 90,
   "id": "56c6d68d-3d99-47e1-bf44-5ed0383bae40",
   "metadata": {},
   "outputs": [],
   "source": [
    "# Renaming label column to labels for model expectation\n",
    "tokenized_dataset = tokenized_datasets.rename_column(\"label\", \"labels\")"
   ]
  },
  {
   "cell_type": "code",
   "execution_count": 91,
   "id": "017a1f1b-4c55-4baf-9b56-a283fd98c0a5",
   "metadata": {},
   "outputs": [],
   "source": [
    "# to return pytorch tensors instead of lists\n",
    "tokenized_dataset.set_format(\"torch\")"
   ]
  },
  {
   "cell_type": "code",
   "execution_count": 92,
   "id": "95b07722-438a-4a10-b885-7a852880f51c",
   "metadata": {},
   "outputs": [],
   "source": [
    "# smaller datasets to speed up fine-tuning\n",
    "small_train_dataset = tokenized_dataset[\"train\"].shuffle(seed=42).select(range(1000))\n",
    "small_eval_dataset = tokenized_dataset[\"test\"].shuffle(seed=42).select(range(1000))"
   ]
  },
  {
   "cell_type": "code",
   "execution_count": null,
   "id": "1f4a6cd4-0188-45a3-ac4a-9af839b06745",
   "metadata": {},
   "outputs": [],
   "source": []
  }
 ],
 "metadata": {
  "jupytext": {
   "cell_metadata_filter": "-all",
   "main_language": "python",
   "notebook_metadata_filter": "-all"
  },
  "kernelspec": {
   "display_name": "Python 3 (ipykernel)",
   "language": "python",
   "name": "python3"
  },
  "language_info": {
   "codemirror_mode": {
    "name": "ipython",
    "version": 3
   },
   "file_extension": ".py",
   "mimetype": "text/x-python",
   "name": "python",
   "nbconvert_exporter": "python",
   "pygments_lexer": "ipython3",
   "version": "3.11.5"
  }
 },
 "nbformat": 4,
 "nbformat_minor": 5
}
